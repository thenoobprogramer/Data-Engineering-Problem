{
 "cells": [
  {
   "cell_type": "code",
   "execution_count": 1,
   "metadata": {},
   "outputs": [],
   "source": [
    "import psycopg2 #used to connect PostgreSQL with python\n",
    "import pandas as pd #used to work with excel files"
   ]
  },
  {
   "cell_type": "markdown",
   "metadata": {},
   "source": [
    "### Connecting to PSQL database using python"
   ]
  },
  {
   "cell_type": "code",
   "execution_count": 2,
   "metadata": {},
   "outputs": [],
   "source": [
    "conn = psycopg2.connect(\"dbname=database_name useru=user_name password=password\") # chenage the database name, user name and passwprd as per you database\n"
   ]
  },
  {
   "cell_type": "code",
   "execution_count": 3,
   "metadata": {},
   "outputs": [],
   "source": [
    "cur=conn.cursor()"
   ]
  },
  {
   "cell_type": "markdown",
   "metadata": {},
   "source": [
    "### Loading excel file data to a dataframe"
   ]
  },
  {
   "cell_type": "code",
   "execution_count": 4,
   "metadata": {},
   "outputs": [],
   "source": [
    "df=pd.read_excel(\"excel file location\")"
   ]
  },
  {
   "cell_type": "code",
   "execution_count": 5,
   "metadata": {},
   "outputs": [
    {
     "data": {
      "text/html": [
       "<div>\n",
       "<style scoped>\n",
       "    .dataframe tbody tr th:only-of-type {\n",
       "        vertical-align: middle;\n",
       "    }\n",
       "\n",
       "    .dataframe tbody tr th {\n",
       "        vertical-align: top;\n",
       "    }\n",
       "\n",
       "    .dataframe thead th {\n",
       "        text-align: right;\n",
       "    }\n",
       "</style>\n",
       "<table border=\"1\" class=\"dataframe\">\n",
       "  <thead>\n",
       "    <tr style=\"text-align: right;\">\n",
       "      <th></th>\n",
       "      <th>Name</th>\n",
       "      <th>Cust_I</th>\n",
       "      <th>Open_Dt</th>\n",
       "      <th>Consul_Dt</th>\n",
       "      <th>VAC_ID</th>\n",
       "      <th>DR_Name</th>\n",
       "      <th>State</th>\n",
       "      <th>County</th>\n",
       "      <th>DOB</th>\n",
       "      <th>FLAG</th>\n",
       "    </tr>\n",
       "  </thead>\n",
       "  <tbody>\n",
       "    <tr>\n",
       "      <th>0</th>\n",
       "      <td>Alex</td>\n",
       "      <td>123457</td>\n",
       "      <td>2010-10-12</td>\n",
       "      <td>2012-10-13</td>\n",
       "      <td>MVD</td>\n",
       "      <td>Paul</td>\n",
       "      <td>SA</td>\n",
       "      <td>USA</td>\n",
       "      <td>1987-03-06</td>\n",
       "      <td>A</td>\n",
       "    </tr>\n",
       "    <tr>\n",
       "      <th>1</th>\n",
       "      <td>John</td>\n",
       "      <td>123458</td>\n",
       "      <td>2010-10-13</td>\n",
       "      <td>2012-10-14</td>\n",
       "      <td>MVD</td>\n",
       "      <td>NaN</td>\n",
       "      <td>TN</td>\n",
       "      <td>IND</td>\n",
       "      <td>1987-03-06</td>\n",
       "      <td>A</td>\n",
       "    </tr>\n",
       "    <tr>\n",
       "      <th>2</th>\n",
       "      <td>Mathew</td>\n",
       "      <td>123459</td>\n",
       "      <td>2010-10-14</td>\n",
       "      <td>2012-10-15</td>\n",
       "      <td>MVD</td>\n",
       "      <td>NaN</td>\n",
       "      <td>WAS</td>\n",
       "      <td>PHIL</td>\n",
       "      <td>1987-03-06</td>\n",
       "      <td>A</td>\n",
       "    </tr>\n",
       "    <tr>\n",
       "      <th>3</th>\n",
       "      <td>Matt</td>\n",
       "      <td>12345</td>\n",
       "      <td>2010-10-15</td>\n",
       "      <td>2012-10-16</td>\n",
       "      <td>MVD</td>\n",
       "      <td>NaN</td>\n",
       "      <td>BOS</td>\n",
       "      <td>NYC</td>\n",
       "      <td>1987-03-06</td>\n",
       "      <td>A</td>\n",
       "    </tr>\n",
       "    <tr>\n",
       "      <th>4</th>\n",
       "      <td>Jacob</td>\n",
       "      <td>1256</td>\n",
       "      <td>2010-10-16</td>\n",
       "      <td>2012-10-17</td>\n",
       "      <td>MVD</td>\n",
       "      <td>NaN</td>\n",
       "      <td>VIC</td>\n",
       "      <td>AU</td>\n",
       "      <td>1987-03-06</td>\n",
       "      <td>A</td>\n",
       "    </tr>\n",
       "  </tbody>\n",
       "</table>\n",
       "</div>"
      ],
      "text/plain": [
       "     Name  Cust_I    Open_Dt  Consul_Dt VAC_ID DR_Name State County  \\\n",
       "0    Alex  123457 2010-10-12 2012-10-13    MVD    Paul    SA    USA   \n",
       "1    John  123458 2010-10-13 2012-10-14    MVD     NaN    TN    IND   \n",
       "2  Mathew  123459 2010-10-14 2012-10-15    MVD     NaN   WAS   PHIL   \n",
       "3    Matt   12345 2010-10-15 2012-10-16    MVD     NaN   BOS    NYC   \n",
       "4   Jacob    1256 2010-10-16 2012-10-17    MVD     NaN   VIC     AU   \n",
       "\n",
       "         DOB FLAG  \n",
       "0 1987-03-06    A  \n",
       "1 1987-03-06    A  \n",
       "2 1987-03-06    A  \n",
       "3 1987-03-06    A  \n",
       "4 1987-03-06    A  "
      ]
     },
     "execution_count": 5,
     "metadata": {},
     "output_type": "execute_result"
    }
   ],
   "source": [
    "df"
   ]
  },
  {
   "cell_type": "markdown",
   "metadata": {},
   "source": [
    "### ---------------------------------------------------------------------------------------------------------------"
   ]
  },
  {
   "cell_type": "markdown",
   "metadata": {},
   "source": [
    "#### taking the countries from the dataframe to create tables"
   ]
  },
  {
   "cell_type": "code",
   "execution_count": 6,
   "metadata": {},
   "outputs": [],
   "source": [
    "a=df[\"County\"]"
   ]
  },
  {
   "cell_type": "markdown",
   "metadata": {},
   "source": [
    "#### Query to create and insert in to tables"
   ]
  },
  {
   "cell_type": "code",
   "execution_count": null,
   "metadata": {},
   "outputs": [
    {
     "name": "stdout",
     "output_type": "stream",
     "text": [
      "table createdwith name: table_USA\n",
      "   Name  Cust_I    Open_Dt  Consul_Dt VAC_ID DR_Name State County        DOB  \\\n",
      "0  Alex  123457 2010-10-12 2012-10-13    MVD    Paul    SA    USA 1987-03-06   \n",
      "\n",
      "  FLAG  \n",
      "0    A  \n",
      "---------------------------------------------------------------------------------------------\n",
      "table createdwith name: table_IND\n",
      "   Name  Cust_I    Open_Dt  Consul_Dt VAC_ID DR_Name State County        DOB  \\\n",
      "1  John  123458 2010-10-13 2012-10-14    MVD     NaN    TN    IND 1987-03-06   \n",
      "\n",
      "  FLAG  \n",
      "1    A  \n",
      "---------------------------------------------------------------------------------------------\n",
      "table createdwith name: table_PHIL\n",
      "     Name  Cust_I    Open_Dt  Consul_Dt VAC_ID DR_Name State County  \\\n",
      "2  Mathew  123459 2010-10-14 2012-10-15    MVD     NaN   WAS   PHIL   \n",
      "\n",
      "         DOB FLAG  \n",
      "2 1987-03-06    A  \n",
      "---------------------------------------------------------------------------------------------\n",
      "table createdwith name: table_NYC\n",
      "   Name  Cust_I    Open_Dt  Consul_Dt VAC_ID DR_Name State County        DOB  \\\n",
      "3  Matt   12345 2010-10-15 2012-10-16    MVD     NaN   BOS    NYC 1987-03-06   \n",
      "\n",
      "  FLAG  \n",
      "3    A  \n",
      "---------------------------------------------------------------------------------------------\n",
      "table createdwith name: table_AU\n",
      "    Name  Cust_I    Open_Dt  Consul_Dt VAC_ID DR_Name State County        DOB  \\\n",
      "4  Jacob    1256 2010-10-16 2012-10-17    MVD     NaN   VIC     AU 1987-03-06   \n",
      "\n",
      "  FLAG  \n",
      "4    A  \n",
      "---------------------------------------------------------------------------------------------\n"
     ]
    }
   ],
   "source": [
    "for i in a:\n",
    "    \n",
    "    \n",
    "\n",
    "    \n",
    "    table_name=\"table_\"+i    \n",
    "    \n",
    "    cur.execute(\"CREATE TABLE IF NOT EXISTS \"+table_name+\" (customer_name VARCHAR NOT NULL, customer_id VARCHAR NOT NULL,Customer_Open_Date DATE NOT NULL, Last_Consulted_Date DATE, Vaccination_Type CHAR(5), Doctor_Consulted CHAR(255), State CHAR(5), Country CHAR(6), Date_of_Birth DATE, Active_Customer CHAR(5) )\")\n",
    "\n",
    "    conn.commit()\n",
    "    print(\"table createdwith name:\",table_name)\n",
    "    for j in df[\"County\"]:\n",
    "        \n",
    "        if(j==i):\n",
    "            data=df.loc[df[\"County\"] == i]\n",
    "            print(data)\n",
    "            print(\"---------------------------------------------------------------------------------------------\")\n",
    "            cur.execute(\"INSERT INTO \"+table_name+ \"(customer_name, customer_id, Customer_Open_Date, Last_Consulted_Date, Vaccination_Type, Doctor_Consulted, State, Country,  Date_of_Birth, Active_Customer ) VALUES('%s','%s','%s','%s','%s','%s','%s','%s','%s','%s');\" %(data['Name'].to_string(index=False),data['Cust_I'].to_string(index=False),data['Open_Dt'].to_string(index=False),data['Consul_Dt'].to_string(index=False),data['VAC_ID'].to_string(index=False),data['DR_Name'].to_string(index=False),data['State'].to_string(index=False),data['County'].to_string(index=False),data['DOB'].to_string(index=False),data['FLAG'].to_string(index=False)))\n",
    "\n",
    "            \n"
   ]
  },
  {
   "cell_type": "code",
   "execution_count": 25,
   "metadata": {},
   "outputs": [],
   "source": [
    "conn.rollback() # if an error occured while iserting the data we need to rollback the transaction. for that we use this command\n"
   ]
  },
  {
   "cell_type": "code",
   "execution_count": null,
   "metadata": {},
   "outputs": [],
   "source": [
    "conn.close() #to close the connection"
   ]
  },
  {
   "cell_type": "code",
   "execution_count": null,
   "metadata": {},
   "outputs": [],
   "source": []
  }
 ],
 "metadata": {
  "kernelspec": {
   "display_name": "Python 3",
   "language": "python",
   "name": "python3"
  },
  "language_info": {
   "codemirror_mode": {
    "name": "ipython",
    "version": 3
   },
   "file_extension": ".py",
   "mimetype": "text/x-python",
   "name": "python",
   "nbconvert_exporter": "python",
   "pygments_lexer": "ipython3",
   "version": "3.8.5"
  }
 },
 "nbformat": 4,
 "nbformat_minor": 4
}
